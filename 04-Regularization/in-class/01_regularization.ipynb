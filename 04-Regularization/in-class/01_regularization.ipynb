{
  "cells": [
    {
      "cell_type": "markdown",
      "id": "75cf4793",
      "metadata": {
        "id": "75cf4793"
      },
      "source": [
        "# Регуляризация\n",
        "\n",
        "В рамках задания предлагается улучшить качество модели, подверженной переобучению.\n",
        "\n",
        "Загрузим корпус MNIST и оставим 10000 тренировочных примеров."
      ]
    },
    {
      "cell_type": "code",
      "execution_count": null,
      "id": "9b4c6ea3",
      "metadata": {
        "colab": {
          "base_uri": "https://localhost:8080/",
          "height": 726,
          "referenced_widgets": [
            "197bba9187a7457189f005d082c6f92f",
            "bc9efa5bdd464736b396c9c0b757bd9d",
            "0751b098311147ba9b8acc81fcd48b01",
            "3b7e4aa7e9594daf888db00f782dcdf3",
            "585117d04e5a465db72743cc3f383eec",
            "220258b096624e3cac1b771424fd3781",
            "1b433b802bbc408b972045867005df86",
            "8cec637a202a4800a112ae2da34f9b10",
            "cc4bf9372d764bcc99bd0bb01673ade0",
            "04a9cfb22e5847b19f6d0c24512c1238",
            "b1757ea6358649d7af0babb127c0e97b",
            "e87a2f51df1b4c22a17bb22ee56dfc4e",
            "2e1857e3a41c4d11aff0b556f341ee63",
            "d641b3eb409b4fd0bb4897d8b55dfbc4",
            "dccb81532579470f88c252c5da6eadbf",
            "abc696ac66b440be93a3c9900a77136e",
            "e1c59cb8aa31477d8526abad532d2ad6",
            "603bd5c4b6954824b672daec5732005f",
            "fa3bc0741ed7487d87bf7b847df65870",
            "c02d3c446284424da52a3112f1dda47e",
            "654849f151134056b3edb2a279d6af7f",
            "cb30bf910c184883b5bd40346cd2adc8",
            "a04b7854319f4b6ab4078cd6296a1f0e",
            "f8b71e06cd5048ea856942c903abac3c",
            "1e4d209e0bd44974a1bb02e168fff373",
            "0068ec7eb2c84a349f60d870cb72dd6b",
            "43fa8acf86fb4f5d8feba541edc28162",
            "0d7b143cf1bc4c158afd49358a25eb5a",
            "61e7b7fc972b406294c57617848a0d6f",
            "d75795b653744e5db8be7ab08fc11bf3",
            "9c2acc4693af4c6cac43d043fa3a9a54",
            "bc173236d6df459a83d4940cb9c76488",
            "8e9cd981948943fda77e0faede5d8665",
            "313b24c1e1ac47eb99667169158bb2c1",
            "b2544b083219412fac1bb4a2c4d80f89",
            "42e56a5da5aa455db3bb1327a097b895",
            "18e350bb3de44a4c8913a12797c6e038",
            "c2ca8dc81282473e984fa41f456516d4",
            "a3391fbae2924f24b64a4698e6a0b418",
            "9d35e0920a1c426b9c919633f7aea9eb",
            "98547d52598d4c5a86e1f6bcf45bcb1f",
            "d0951445b3c741588cd7c8b2c0cc25f1",
            "581f9a18a3f34e0499e8ecc241678d49",
            "5b0233c2fa8f42d4b79ce5d8a0ab3956"
          ]
        },
        "id": "9b4c6ea3",
        "outputId": "2204f68b-1726-4a3a-f939-19639d232f19"
      },
      "outputs": [
        {
          "output_type": "stream",
          "name": "stdout",
          "text": [
            "USE CUDA: True\n",
            "Downloading http://yann.lecun.com/exdb/mnist/train-images-idx3-ubyte.gz\n",
            "Downloading http://yann.lecun.com/exdb/mnist/train-images-idx3-ubyte.gz to mnist/MNIST/raw/train-images-idx3-ubyte.gz\n"
          ]
        },
        {
          "output_type": "display_data",
          "data": {
            "text/plain": [
              "  0%|          | 0/9912422 [00:00<?, ?it/s]"
            ],
            "application/vnd.jupyter.widget-view+json": {
              "version_major": 2,
              "version_minor": 0,
              "model_id": "197bba9187a7457189f005d082c6f92f"
            }
          },
          "metadata": {}
        },
        {
          "output_type": "stream",
          "name": "stdout",
          "text": [
            "Extracting mnist/MNIST/raw/train-images-idx3-ubyte.gz to mnist/MNIST/raw\n",
            "\n",
            "Downloading http://yann.lecun.com/exdb/mnist/train-labels-idx1-ubyte.gz\n",
            "Downloading http://yann.lecun.com/exdb/mnist/train-labels-idx1-ubyte.gz to mnist/MNIST/raw/train-labels-idx1-ubyte.gz\n"
          ]
        },
        {
          "output_type": "display_data",
          "data": {
            "text/plain": [
              "  0%|          | 0/28881 [00:00<?, ?it/s]"
            ],
            "application/vnd.jupyter.widget-view+json": {
              "version_major": 2,
              "version_minor": 0,
              "model_id": "e87a2f51df1b4c22a17bb22ee56dfc4e"
            }
          },
          "metadata": {}
        },
        {
          "output_type": "stream",
          "name": "stdout",
          "text": [
            "Extracting mnist/MNIST/raw/train-labels-idx1-ubyte.gz to mnist/MNIST/raw\n",
            "\n",
            "Downloading http://yann.lecun.com/exdb/mnist/t10k-images-idx3-ubyte.gz\n",
            "Downloading http://yann.lecun.com/exdb/mnist/t10k-images-idx3-ubyte.gz to mnist/MNIST/raw/t10k-images-idx3-ubyte.gz\n"
          ]
        },
        {
          "output_type": "display_data",
          "data": {
            "text/plain": [
              "  0%|          | 0/1648877 [00:00<?, ?it/s]"
            ],
            "application/vnd.jupyter.widget-view+json": {
              "version_major": 2,
              "version_minor": 0,
              "model_id": "a04b7854319f4b6ab4078cd6296a1f0e"
            }
          },
          "metadata": {}
        },
        {
          "output_type": "stream",
          "name": "stdout",
          "text": [
            "Extracting mnist/MNIST/raw/t10k-images-idx3-ubyte.gz to mnist/MNIST/raw\n",
            "\n",
            "Downloading http://yann.lecun.com/exdb/mnist/t10k-labels-idx1-ubyte.gz\n",
            "Downloading http://yann.lecun.com/exdb/mnist/t10k-labels-idx1-ubyte.gz to mnist/MNIST/raw/t10k-labels-idx1-ubyte.gz\n"
          ]
        },
        {
          "output_type": "display_data",
          "data": {
            "text/plain": [
              "  0%|          | 0/4542 [00:00<?, ?it/s]"
            ],
            "application/vnd.jupyter.widget-view+json": {
              "version_major": 2,
              "version_minor": 0,
              "model_id": "313b24c1e1ac47eb99667169158bb2c1"
            }
          },
          "metadata": {}
        },
        {
          "output_type": "stream",
          "name": "stdout",
          "text": [
            "Extracting mnist/MNIST/raw/t10k-labels-idx1-ubyte.gz to mnist/MNIST/raw\n",
            "\n",
            "Train size: 1000\n",
            "Test size: 10000\n"
          ]
        },
        {
          "output_type": "display_data",
          "data": {
            "text/plain": [
              "<Figure size 432x288 with 9 Axes>"
            ],
            "image/png": "[encoded data removed]"
          },
          "metadata": {
            "needs_background": "light"
          }
        }
      ],
      "source": [
        "import torch\n",
        "import numpy as np\n",
        "import torchvision\n",
        "from torchvision.datasets import MNIST\n",
        "from matplotlib import pyplot as plt\n",
        "from tqdm import tqdm\n",
        "\n",
        "USE_CUDA = torch.cuda.is_available()\n",
        "print(\"USE CUDA:\", USE_CUDA)\n",
        "\n",
        "torch.manual_seed(0)\n",
        "np.random.seed(0)\n",
        "\n",
        "SUBSET_SIZE = 1000\n",
        "BATCH_SIZE = 32\n",
        "\n",
        "transform = torchvision.transforms.ToTensor()\n",
        "\n",
        "train = MNIST(\"mnist\", train=True, transform=transform, download=True)\n",
        "train = torch.utils.data.Subset(train, np.random.permutation(len(train))[:SUBSET_SIZE])\n",
        "test = MNIST(\"mnist\", train=False, transform=transform, download=True)\n",
        "print(\"Train size:\", len(train))\n",
        "print(\"Test size:\", len(test))\n",
        "\n",
        "def draw(dataset):\n",
        "    images, labels = zip(*[dataset[i] for i in range(9)])\n",
        "    fig, axs = plt.subplots(3, 3, squeeze=False)\n",
        "    for i, image in enumerate(images):\n",
        "        ax = axs[i // 3, i % 3]\n",
        "        ax.imshow(image.permute(1, 2, 0).squeeze(-1))\n",
        "    plt.show()\n",
        "\n",
        "draw(train)"
      ]
    },
    {
      "cell_type": "code",
      "execution_count": null,
      "id": "08ab8186",
      "metadata": {
        "id": "08ab8186"
      },
      "outputs": [],
      "source": [
        "def compute_accuracy(model, loader):\n",
        "    if USE_CUDA:\n",
        "        model.cuda()\n",
        "    model.eval()\n",
        "    n_correct = 0\n",
        "    n = 0\n",
        "    for images, labels in loader:\n",
        "        if USE_CUDA:\n",
        "            images = images.cuda()\n",
        "            labels = labels.cuda()\n",
        "        n_correct += (model(images).argmax(dim=1) == labels).sum().item()\n",
        "        n += len(images)\n",
        "    return n_correct / n"
      ]
    },
    {
      "cell_type": "code",
      "execution_count": null,
      "id": "699767e8",
      "metadata": {
        "colab": {
          "base_uri": "https://localhost:8080/",
          "height": 665
        },
        "id": "699767e8",
        "outputId": "3c8b9de8-59fe-4c5f-c0b6-46941b4a095e"
      },
      "outputs": [
        {
          "output_type": "stream",
          "name": "stdout",
          "text": [
            "Num parameters 3226\n",
            "Epoch 0, loss 2.288, train 0.341, test 0.319\n",
            "Epoch 1, loss 2.101, train 0.598, test 0.574\n",
            "Epoch 2, loss 1.153, train 0.810, test 0.778\n",
            "Epoch 3, loss 0.622, train 0.873, test 0.847\n",
            "Epoch 4, loss 0.448, train 0.895, test 0.847\n",
            "Epoch 5, loss 0.374, train 0.901, test 0.850\n",
            "Epoch 6, loss 0.324, train 0.912, test 0.854\n",
            "Epoch 7, loss 0.284, train 0.922, test 0.861\n",
            "Epoch 8, loss 0.251, train 0.926, test 0.867\n",
            "Epoch 9, loss 0.224, train 0.941, test 0.870\n",
            "Epoch 10, loss 0.200, train 0.945, test 0.873\n",
            "Epoch 11, loss 0.178, train 0.949, test 0.878\n",
            "Epoch 12, loss 0.159, train 0.955, test 0.879\n",
            "Epoch 13, loss 0.142, train 0.959, test 0.881\n",
            "Epoch 14, loss 0.126, train 0.959, test 0.884\n",
            "Epoch 15, loss 0.113, train 0.961, test 0.885\n",
            "Epoch 16, loss 0.101, train 0.961, test 0.886\n",
            "Epoch 17, loss 0.091, train 0.967, test 0.887\n",
            "Epoch 18, loss 0.080, train 0.968, test 0.888\n",
            "Epoch 19, loss 0.070, train 0.966, test 0.888\n",
            "Weights norm 7.146504878997803\n"
          ]
        },
        {
          "output_type": "display_data",
          "data": {
            "text/plain": [
              "<Figure size 432x288 with 1 Axes>"
            ],
            "image/png": "[encoded data removed]"
          },
          "metadata": {
            "needs_background": "light"
          }
        }
      ],
      "source": [
        "def run(model, **optimizer_kwargs):\n",
        "    print(\"Num parameters\", sum(map(torch.numel, model.parameters())))\n",
        "    if USE_CUDA:\n",
        "        model.cuda()\n",
        "    criterion = torch.nn.CrossEntropyLoss()\n",
        "    optimizer = torch.optim.SGD(model.parameters(),\n",
        "                                lr=optimizer_kwargs.get(\"lr\", 0.1),\n",
        "                                **optimizer_kwargs)\n",
        "    loader = torch.utils.data.DataLoader(train, batch_size=BATCH_SIZE, drop_last=True)\n",
        "    scheduler = torch.optim.lr_scheduler.ExponentialLR(optimizer, gamma=0.5)\n",
        "    test_loader = torch.utils.data.DataLoader(test, batch_size=BATCH_SIZE)\n",
        "    train_accuracies = []\n",
        "    test_accuracies = []\n",
        "    for epoch in range(20):\n",
        "        model.train()\n",
        "        losses = []\n",
        "        for images, labels in loader:\n",
        "            if USE_CUDA:\n",
        "                images = images.cuda()\n",
        "                labels = labels.cuda()\n",
        "            logits = model(images)\n",
        "            loss = criterion(logits, labels)\n",
        "            loss.backward()\n",
        "            optimizer.step()\n",
        "            optimizer.zero_grad()\n",
        "            losses.append(loss.item())\n",
        "        model.eval()\n",
        "        train_accuracy = compute_accuracy(model, loader)\n",
        "        test_accuracy = compute_accuracy(model, test_loader)\n",
        "        train_accuracies.append(train_accuracy)\n",
        "        test_accuracies.append(test_accuracy)\n",
        "        print(f\"Epoch {epoch}, loss {np.mean(losses):.3f}, train {train_accuracy:.3f}, test {test_accuracy:.3f}\")\n",
        "    print(\"Weights norm\", torch.linalg.norm(torch.concat([p.flatten() for p in model.parameters()])).item())\n",
        "    plt.ylim(train_accuracies[1], 1)\n",
        "    plt.xlabel(\"Epoch\")\n",
        "    plt.ylabel(\"Accuracy\")\n",
        "    plt.plot(train_accuracies, label=\"Train\", marker=\"o\")\n",
        "    plt.plot(test_accuracies, label=\"Test\", marker=\"o\")\n",
        "    plt.legend()\n",
        "    plt.show()\n",
        "    \n",
        "torch.manual_seed(0)\n",
        "\n",
        "model = torch.nn.Sequential(\n",
        "    torch.nn.Conv2d(1, 4, 3, stride=2),\n",
        "    torch.nn.ReLU(),\n",
        "    torch.nn.Conv2d(4, 8, 3, stride=2),\n",
        "    torch.nn.ReLU(),\n",
        "    torch.nn.Flatten(),\n",
        "    torch.nn.Linear(288, 10)\n",
        ")\n",
        "        \n",
        "run(model)"
      ]
    },
    {
      "cell_type": "code",
      "execution_count": null,
      "id": "e812cc70",
      "metadata": {
        "colab": {
          "base_uri": "https://localhost:8080/",
          "height": 665
        },
        "id": "e812cc70",
        "outputId": "23f59e6f-7f40-47bb-95ee-36a7443646ef"
      },
      "outputs": [
        {
          "output_type": "stream",
          "name": "stdout",
          "text": [
            "Num parameters 3226\n",
            "Epoch 0, loss 2.292, train 0.321, test 0.294\n",
            "Epoch 1, loss 2.232, train 0.502, test 0.464\n",
            "Epoch 2, loss 1.644, train 0.728, test 0.681\n",
            "Epoch 3, loss 0.864, train 0.845, test 0.820\n",
            "Epoch 4, loss 0.596, train 0.877, test 0.844\n",
            "Epoch 5, loss 0.507, train 0.887, test 0.854\n",
            "Epoch 6, loss 0.462, train 0.899, test 0.857\n",
            "Epoch 7, loss 0.431, train 0.904, test 0.859\n",
            "Epoch 8, loss 0.411, train 0.909, test 0.861\n",
            "Epoch 9, loss 0.394, train 0.915, test 0.863\n",
            "Epoch 10, loss 0.381, train 0.919, test 0.865\n",
            "Epoch 11, loss 0.370, train 0.919, test 0.867\n",
            "Epoch 12, loss 0.362, train 0.921, test 0.867\n",
            "Epoch 13, loss 0.355, train 0.920, test 0.868\n",
            "Epoch 14, loss 0.348, train 0.921, test 0.869\n",
            "Epoch 15, loss 0.343, train 0.924, test 0.870\n",
            "Epoch 16, loss 0.338, train 0.924, test 0.870\n",
            "Epoch 17, loss 0.334, train 0.922, test 0.871\n",
            "Epoch 18, loss 0.330, train 0.925, test 0.872\n",
            "Epoch 19, loss 0.327, train 0.928, test 0.873\n",
            "Weights norm 3.935408592224121\n"
          ]
        },
        {
          "output_type": "display_data",
          "data": {
            "text/plain": [
              "<Figure size 432x288 with 1 Axes>"
            ],
            "image/png": "[encoded data removed]"
          },
          "metadata": {
            "needs_background": "light"
          }
        }
      ],
      "source": [
        "torch.manual_seed(0)\n",
        "\n",
        "model = torch.nn.Sequential(\n",
        "    torch.nn.Conv2d(1, 4, 3, stride=2),\n",
        "    torch.nn.ReLU(),\n",
        "    torch.nn.Conv2d(4, 8, 3, stride=2),\n",
        "    torch.nn.ReLU(),\n",
        "    torch.nn.Flatten(),\n",
        "    torch.nn.Linear(288, 10)\n",
        ")\n",
        "\n",
        "run(model, weight_decay=0.05)"
      ]
    },
    {
      "cell_type": "markdown",
      "id": "429a3b05",
      "metadata": {
        "id": "429a3b05"
      },
      "source": [
        "При `weight_decay=0.05` точность на train падает на 4.3%, а на test на 1.4%. Таким образом переобучение становится меньше, но качество на test падает."
      ]
    },
    {
      "cell_type": "markdown",
      "id": "28aa4375",
      "metadata": {
        "id": "28aa4375"
      },
      "source": [
        "**Задание 1**. Может ли выбор `weight_decay` увеличить точность на train? Какой максимальной точности на test можно добиться подбором этого параметра? Может ли точность на train и test примерно сравняться?"
      ]
    },
    {
      "cell_type": "code",
      "execution_count": null,
      "id": "a49bb4e8",
      "metadata": {
        "id": "a49bb4e8"
      },
      "outputs": [],
      "source": [
        "torch.manual_seed(0)\n",
        "\n",
        "model = torch.nn.Sequential(\n",
        "    torch.nn.Conv2d(1, 4, 3, stride=2),\n",
        "    torch.nn.ReLU(),\n",
        "    torch.nn.Conv2d(4, 8, 3, stride=2),\n",
        "    torch.nn.ReLU(),\n",
        "    torch.nn.Flatten(),\n",
        "    torch.nn.Linear(288, 10)\n",
        ")\n",
        "\n",
        "#run(model, weight_decay=...)  # Ваш параметр."
      ]
    },
    {
      "cell_type": "code",
      "source": [
        "wd = [1e-5, 1e-4, 0.001, 0.01, 0.1]"
      ],
      "metadata": {
        "id": "x7QZfZ2FW6eV"
      },
      "id": "x7QZfZ2FW6eV",
      "execution_count": null,
      "outputs": []
    },
    {
      "cell_type": "code",
      "source": [
        "for i in wd:\n",
        "  run(model, weight_decay=i)"
      ],
      "metadata": {
        "colab": {
          "base_uri": "https://localhost:8080/",
          "height": 1000
        },
        "id": "NHrnYjQ3XZGn",
        "outputId": "147dd6c3-37af-4d74-9f6e-ebdfd1181eb1"
      },
      "id": "NHrnYjQ3XZGn",
      "execution_count": null,
      "outputs": [
        {
          "output_type": "stream",
          "name": "stdout",
          "text": [
            "Num parameters 3226\n",
            "Epoch 0, loss 2.288, train 0.341, test 0.319\n",
            "Epoch 1, loss 2.101, train 0.599, test 0.574\n",
            "Epoch 2, loss 1.153, train 0.809, test 0.778\n",
            "Epoch 3, loss 0.622, train 0.872, test 0.848\n",
            "Epoch 4, loss 0.448, train 0.895, test 0.847\n",
            "Epoch 5, loss 0.374, train 0.900, test 0.851\n",
            "Epoch 6, loss 0.324, train 0.913, test 0.854\n",
            "Epoch 7, loss 0.284, train 0.922, test 0.861\n",
            "Epoch 8, loss 0.251, train 0.927, test 0.867\n",
            "Epoch 9, loss 0.224, train 0.940, test 0.870\n",
            "Epoch 10, loss 0.200, train 0.945, test 0.872\n",
            "Epoch 11, loss 0.179, train 0.949, test 0.877\n",
            "Epoch 12, loss 0.159, train 0.955, test 0.879\n",
            "Epoch 13, loss 0.142, train 0.958, test 0.881\n",
            "Epoch 14, loss 0.127, train 0.958, test 0.885\n",
            "Epoch 15, loss 0.113, train 0.961, test 0.885\n",
            "Epoch 16, loss 0.101, train 0.962, test 0.886\n",
            "Epoch 17, loss 0.090, train 0.965, test 0.887\n",
            "Epoch 18, loss 0.081, train 0.969, test 0.887\n",
            "Epoch 19, loss 0.072, train 0.964, test 0.883\n",
            "Weights norm 7.143161773681641\n"
          ]
        },
        {
          "output_type": "display_data",
          "data": {
            "text/plain": [
              "<Figure size 432x288 with 1 Axes>"
            ],
            "image/png": "[encoded data removed]"
          },
          "metadata": {
            "needs_background": "light"
          }
        },
        {
          "output_type": "stream",
          "name": "stdout",
          "text": [
            "Num parameters 3226\n",
            "Epoch 0, loss 0.067, train 0.979, test 0.888\n",
            "Epoch 1, loss 0.181, train 0.972, test 0.887\n",
            "Epoch 2, loss 0.065, train 0.981, test 0.884\n",
            "Epoch 3, loss 0.046, train 0.985, test 0.890\n",
            "Epoch 4, loss 0.033, train 0.988, test 0.893\n",
            "Epoch 5, loss 0.045, train 0.988, test 0.893\n",
            "Epoch 6, loss 0.032, train 0.992, test 0.895\n",
            "Epoch 7, loss 0.019, train 0.997, test 0.896\n",
            "Epoch 8, loss 0.015, train 0.997, test 0.897\n",
            "Epoch 9, loss 0.013, train 0.997, test 0.897\n",
            "Epoch 10, loss 0.011, train 0.998, test 0.898\n",
            "Epoch 11, loss 0.010, train 0.998, test 0.898\n",
            "Epoch 12, loss 0.009, train 0.998, test 0.898\n",
            "Epoch 13, loss 0.008, train 0.998, test 0.898\n",
            "Epoch 14, loss 0.007, train 0.999, test 0.899\n",
            "Epoch 15, loss 0.007, train 0.999, test 0.900\n",
            "Epoch 16, loss 0.006, train 0.999, test 0.900\n",
            "Epoch 17, loss 0.006, train 0.999, test 0.900\n",
            "Epoch 18, loss 0.005, train 0.999, test 0.900\n",
            "Epoch 19, loss 0.005, train 0.999, test 0.901\n",
            "Weights norm 8.085878372192383\n"
          ]
        },
        {
          "output_type": "display_data",
          "data": {
            "text/plain": [
              "<Figure size 432x288 with 1 Axes>"
            ],
            "image/png": "[encoded data removed]"
          },
          "metadata": {
            "needs_background": "light"
          }
        },
        {
          "output_type": "stream",
          "name": "stdout",
          "text": [
            "Num parameters 3226\n",
            "Epoch 0, loss 0.005, train 0.999, test 0.900\n",
            "Epoch 1, loss 0.005, train 0.999, test 0.900\n",
            "Epoch 2, loss 0.005, train 0.999, test 0.900\n",
            "Epoch 3, loss 0.004, train 0.999, test 0.901\n",
            "Epoch 4, loss 0.004, train 0.999, test 0.900\n",
            "Epoch 5, loss 0.004, train 1.000, test 0.901\n",
            "Epoch 6, loss 0.004, train 1.000, test 0.901\n",
            "Epoch 7, loss 0.004, train 1.000, test 0.901\n",
            "Epoch 8, loss 0.004, train 1.000, test 0.901\n",
            "Epoch 9, loss 0.004, train 1.000, test 0.901\n",
            "Epoch 10, loss 0.004, train 1.000, test 0.901\n",
            "Epoch 11, loss 0.004, train 1.000, test 0.900\n",
            "Epoch 12, loss 0.004, train 1.000, test 0.900\n",
            "Epoch 13, loss 0.004, train 1.000, test 0.900\n",
            "Epoch 14, loss 0.004, train 1.000, test 0.900\n",
            "Epoch 15, loss 0.003, train 1.000, test 0.900\n",
            "Epoch 16, loss 0.003, train 1.000, test 0.900\n",
            "Epoch 17, loss 0.003, train 1.000, test 0.900\n",
            "Epoch 18, loss 0.003, train 1.000, test 0.901\n",
            "Epoch 19, loss 0.003, train 1.000, test 0.901\n",
            "Weights norm 7.9591593742370605\n"
          ]
        },
        {
          "output_type": "display_data",
          "data": {
            "text/plain": [
              "<Figure size 432x288 with 1 Axes>"
            ],
            "image/png": "[encoded data removed]"
          },
          "metadata": {
            "needs_background": "light"
          }
        },
        {
          "output_type": "stream",
          "name": "stdout",
          "text": [
            "Num parameters 3226\n",
            "Epoch 0, loss 0.004, train 1.000, test 0.901\n",
            "Epoch 1, loss 0.006, train 1.000, test 0.901\n",
            "Epoch 2, loss 0.007, train 1.000, test 0.901\n",
            "Epoch 3, loss 0.010, train 1.000, test 0.901\n",
            "Epoch 4, loss 0.013, train 1.000, test 0.900\n",
            "Epoch 5, loss 0.016, train 1.000, test 0.899\n",
            "Epoch 6, loss 0.020, train 1.000, test 0.899\n",
            "Epoch 7, loss 0.024, train 1.000, test 0.900\n",
            "Epoch 8, loss 0.029, train 0.998, test 0.900\n",
            "Epoch 9, loss 0.033, train 0.997, test 0.898\n",
            "Epoch 10, loss 0.037, train 0.991, test 0.896\n",
            "Epoch 11, loss 0.040, train 0.984, test 0.893\n",
            "Epoch 12, loss 0.042, train 0.995, test 0.901\n",
            "Epoch 13, loss 0.337, train 0.976, test 0.892\n",
            "Epoch 14, loss 0.074, train 0.992, test 0.904\n",
            "Epoch 15, loss 0.050, train 0.994, test 0.905\n",
            "Epoch 16, loss 0.045, train 0.995, test 0.906\n",
            "Epoch 17, loss 0.044, train 0.995, test 0.906\n",
            "Epoch 18, loss 0.044, train 0.995, test 0.907\n",
            "Epoch 19, loss 0.044, train 0.995, test 0.907\n",
            "Weights norm 6.030577182769775\n"
          ]
        },
        {
          "output_type": "stream",
          "name": "stderr",
          "text": [
            "/usr/local/lib/python3.7/dist-packages/ipykernel_launcher.py:34: UserWarning: Attempting to set identical bottom == top == 1.0 results in singular transformations; automatically expanding.\n"
          ]
        },
        {
          "output_type": "display_data",
          "data": {
            "text/plain": [
              "<Figure size 432x288 with 1 Axes>"
            ],
            "image/png": "[encoded data removed]"
          },
          "metadata": {
            "needs_background": "light"
          }
        },
        {
          "output_type": "stream",
          "name": "stdout",
          "text": [
            "Num parameters 3226\n",
            "Epoch 0, loss 0.161, train 0.967, test 0.890\n",
            "Epoch 1, loss 0.291, train 0.948, test 0.884\n",
            "Epoch 2, loss 0.377, train 0.931, test 0.879\n",
            "Epoch 3, loss 0.419, train 0.921, test 0.875\n",
            "Epoch 4, loss 0.443, train 0.918, test 0.871\n",
            "Epoch 5, loss 0.458, train 0.915, test 0.869\n",
            "Epoch 6, loss 0.468, train 0.911, test 0.867\n",
            "Epoch 7, loss 0.475, train 0.910, test 0.865\n",
            "Epoch 8, loss 0.479, train 0.908, test 0.864\n",
            "Epoch 9, loss 0.482, train 0.905, test 0.863\n",
            "Epoch 10, loss 0.485, train 0.904, test 0.862\n",
            "Epoch 11, loss 0.486, train 0.904, test 0.860\n",
            "Epoch 12, loss 0.488, train 0.903, test 0.860\n",
            "Epoch 13, loss 0.488, train 0.903, test 0.859\n",
            "Epoch 14, loss 0.489, train 0.903, test 0.858\n",
            "Epoch 15, loss 0.489, train 0.904, test 0.857\n",
            "Epoch 16, loss 0.490, train 0.903, test 0.857\n",
            "Epoch 17, loss 0.491, train 0.903, test 0.857\n",
            "Epoch 18, loss 0.491, train 0.902, test 0.856\n",
            "Epoch 19, loss 0.492, train 0.902, test 0.855\n",
            "Weights norm 3.3127083778381348\n"
          ]
        },
        {
          "output_type": "display_data",
          "data": {
            "text/plain": [
              "<Figure size 432x288 with 1 Axes>"
            ],
            "image/png": "[encoded data removed]"
          },
          "metadata": {
            "needs_background": "light"
          }
        }
      ]
    },
    {
      "cell_type": "markdown",
      "id": "6d9e2e30",
      "metadata": {
        "id": "6d9e2e30"
      },
      "source": [
        "**Задание 2.** Добавьте `torch.nn.Dropout`, подберите параметр и увеличьте точность на test до 90% или выше. Изменилось ли число параметров модели? Вырастает ли при этом точность на train?"
      ]
    },
    {
      "cell_type": "code",
      "execution_count": null,
      "id": "6efa3925",
      "metadata": {
        "colab": {
          "base_uri": "https://localhost:8080/",
          "height": 665
        },
        "id": "6efa3925",
        "outputId": "610d20a3-db72-4268-b4b7-558b75f4dbd6"
      },
      "outputs": [
        {
          "output_type": "stream",
          "name": "stdout",
          "text": [
            "Num parameters 3226\n",
            "Epoch 0, loss 2.284, train 0.371, test 0.340\n",
            "Epoch 1, loss 2.129, train 0.592, test 0.561\n",
            "Epoch 2, loss 1.331, train 0.825, test 0.787\n",
            "Epoch 3, loss 0.879, train 0.861, test 0.829\n",
            "Epoch 4, loss 0.677, train 0.874, test 0.836\n",
            "Epoch 5, loss 0.619, train 0.902, test 0.861\n",
            "Epoch 6, loss 0.552, train 0.913, test 0.867\n",
            "Epoch 7, loss 0.520, train 0.892, test 0.853\n",
            "Epoch 8, loss 0.467, train 0.907, test 0.863\n",
            "Epoch 9, loss 0.431, train 0.929, test 0.883\n",
            "Epoch 10, loss 0.436, train 0.923, test 0.876\n",
            "Epoch 11, loss 0.450, train 0.940, test 0.894\n",
            "Epoch 12, loss 0.387, train 0.948, test 0.889\n",
            "Epoch 13, loss 0.379, train 0.949, test 0.891\n",
            "Epoch 14, loss 0.369, train 0.948, test 0.892\n",
            "Epoch 15, loss 0.362, train 0.956, test 0.897\n",
            "Epoch 16, loss 0.345, train 0.956, test 0.895\n",
            "Epoch 17, loss 0.358, train 0.957, test 0.901\n",
            "Epoch 18, loss 0.316, train 0.956, test 0.885\n",
            "Epoch 19, loss 0.348, train 0.958, test 0.895\n",
            "Weights norm 7.019128322601318\n"
          ]
        },
        {
          "output_type": "display_data",
          "data": {
            "text/plain": [
              "<Figure size 432x288 with 1 Axes>"
            ],
            "image/png": "[encoded data removed]"
          },
          "metadata": {
            "needs_background": "light"
          }
        }
      ],
      "source": [
        "torch.manual_seed(0)\n",
        "\n",
        "model = torch.nn.Sequential(\n",
        "    torch.nn.Conv2d(1, 4, 3, stride=2),\n",
        "    torch.nn.ReLU(),\n",
        "    torch.nn.Conv2d(4, 8, 3, stride=2),\n",
        "    torch.nn.ReLU(),\n",
        "    torch.nn.Flatten(),\n",
        "    torch.nn.Dropout(0.4),\n",
        "    torch.nn.Linear(288, 10)\n",
        ")  # Добавьте dropout в модель.\n",
        "\n",
        "run(model)"
      ]
    },
    {
      "cell_type": "markdown",
      "id": "187b96e0",
      "metadata": {
        "id": "187b96e0"
      },
      "source": [
        "**Задание 3** Добавить BatchNorm2d в модель. Изменилось ли при этом число параметров модели? Увеличьте точность на test до 89% или выше. Насколько можно увеличить точность на train?"
      ]
    },
    {
      "cell_type": "code",
      "execution_count": null,
      "id": "ca6a126d",
      "metadata": {
        "colab": {
          "base_uri": "https://localhost:8080/",
          "height": 665
        },
        "id": "ca6a126d",
        "outputId": "86086a82-7c67-4f1a-d538-388af7c50968"
      },
      "outputs": [
        {
          "output_type": "stream",
          "name": "stdout",
          "text": [
            "Num parameters 3250\n",
            "Epoch 0, loss 1.291, train 0.830, test 0.787\n",
            "Epoch 1, loss 0.535, train 0.892, test 0.843\n",
            "Epoch 2, loss 0.376, train 0.918, test 0.863\n",
            "Epoch 3, loss 0.287, train 0.941, test 0.870\n",
            "Epoch 4, loss 0.223, train 0.955, test 0.873\n",
            "Epoch 5, loss 0.175, train 0.965, test 0.875\n",
            "Epoch 6, loss 0.139, train 0.977, test 0.880\n",
            "Epoch 7, loss 0.109, train 0.984, test 0.881\n",
            "Epoch 8, loss 0.088, train 0.988, test 0.883\n",
            "Epoch 9, loss 0.070, train 0.994, test 0.884\n",
            "Epoch 10, loss 0.057, train 0.997, test 0.886\n",
            "Epoch 11, loss 0.047, train 0.997, test 0.886\n",
            "Epoch 12, loss 0.039, train 0.999, test 0.888\n",
            "Epoch 13, loss 0.033, train 1.000, test 0.888\n",
            "Epoch 14, loss 0.029, train 1.000, test 0.888\n",
            "Epoch 15, loss 0.025, train 1.000, test 0.889\n",
            "Epoch 16, loss 0.023, train 1.000, test 0.889\n",
            "Epoch 17, loss 0.020, train 1.000, test 0.889\n",
            "Epoch 18, loss 0.018, train 1.000, test 0.889\n",
            "Epoch 19, loss 0.017, train 1.000, test 0.889\n",
            "Weights norm 7.8611860275268555\n"
          ]
        },
        {
          "output_type": "display_data",
          "data": {
            "text/plain": [
              "<Figure size 432x288 with 1 Axes>"
            ],
            "image/png": "[encoded data removed]"
          },
          "metadata": {
            "needs_background": "light"
          }
        }
      ],
      "source": [
        "torch.manual_seed(0)\n",
        "\n",
        "model = torch.nn.Sequential(\n",
        "    torch.nn.Conv2d(1, 4, 3, stride=2),\n",
        "    torch.nn.BatchNorm2d(4),\n",
        "    torch.nn.ReLU(),\n",
        "    torch.nn.Conv2d(4, 8, 3, stride=2),\n",
        "    torch.nn.BatchNorm2d(8),\n",
        "    torch.nn.ReLU(),\n",
        "    torch.nn.Flatten(),\n",
        "    torch.nn.Linear(288, 10)\n",
        ")  # Добавьте BatchNorm2d в модель (возможно несколько раз).\n",
        "\n",
        "run(model)"
      ]
    },
    {
      "cell_type": "markdown",
      "id": "6df3fd46",
      "metadata": {
        "id": "6df3fd46"
      },
      "source": [
        "**Задание 4.** Попробуйте добиться точности 92% или выше на test используя все предыдущие способы (можно добиться 93%+)."
      ]
    },
    {
      "cell_type": "code",
      "execution_count": null,
      "id": "07c99074",
      "metadata": {
        "colab": {
          "base_uri": "https://localhost:8080/",
          "height": 665
        },
        "id": "07c99074",
        "outputId": "2b6759cd-908f-4d9c-ab14-301c33f6b669"
      },
      "outputs": [
        {
          "output_type": "stream",
          "name": "stdout",
          "text": [
            "Num parameters 3250\n",
            "Epoch 0, loss 1.568, train 0.787, test 0.738\n",
            "Epoch 1, loss 1.005, train 0.861, test 0.834\n",
            "Epoch 2, loss 0.831, train 0.886, test 0.852\n",
            "Epoch 3, loss 0.702, train 0.905, test 0.866\n",
            "Epoch 4, loss 0.658, train 0.918, test 0.877\n",
            "Epoch 5, loss 0.622, train 0.920, test 0.885\n",
            "Epoch 6, loss 0.576, train 0.936, test 0.895\n",
            "Epoch 7, loss 0.533, train 0.941, test 0.893\n",
            "Epoch 8, loss 0.508, train 0.939, test 0.892\n",
            "Epoch 9, loss 0.541, train 0.943, test 0.897\n",
            "Epoch 10, loss 0.485, train 0.946, test 0.910\n",
            "Epoch 11, loss 0.466, train 0.955, test 0.913\n",
            "Epoch 12, loss 0.398, train 0.954, test 0.916\n",
            "Epoch 13, loss 0.433, train 0.959, test 0.914\n",
            "Epoch 14, loss 0.447, train 0.949, test 0.909\n",
            "Epoch 15, loss 0.408, train 0.957, test 0.915\n",
            "Epoch 16, loss 0.393, train 0.960, test 0.918\n",
            "Epoch 17, loss 0.354, train 0.969, test 0.920\n",
            "Epoch 18, loss 0.381, train 0.969, test 0.923\n",
            "Epoch 19, loss 0.394, train 0.964, test 0.914\n",
            "Weights norm 7.680425643920898\n"
          ]
        },
        {
          "output_type": "display_data",
          "data": {
            "text/plain": [
              "<Figure size 432x288 with 1 Axes>"
            ],
            "image/png": "[encoded data removed]"
          },
          "metadata": {
            "needs_background": "light"
          }
        }
      ],
      "source": [
        "torch.manual_seed(0)\n",
        "\n",
        "model = torch.nn.Sequential(\n",
        "    torch.nn.Conv2d(1, 4, 3, stride=2),\n",
        "    torch.nn.BatchNorm2d(4),\n",
        "    torch.nn.ReLU(),\n",
        "    torch.nn.Conv2d(4, 8, 3, stride=2),\n",
        "    torch.nn.BatchNorm2d(8),\n",
        "    torch.nn.ReLU(),\n",
        "    torch.nn.Flatten(),\n",
        "    torch.nn.Dropout(0.6),\n",
        "    torch.nn.Linear(288, 10)\n",
        ")\n",
        "\n",
        "run(model,weight_decay=1e-3)"
      ]
    },
    {
      "cell_type": "code",
      "source": [],
      "metadata": {
        "id": "3vEmMLQueBoP"
      },
      "id": "3vEmMLQueBoP",
      "execution_count": null,
      "outputs": []
    }
  ],
  "metadata": {
    "kernelspec": {
      "display_name": "Python 3.8.8 ('base')",
      "language": "python",
      "name": "python3"
    },
    "language_info": {
      "codemirror_mode": {
        "name": "ipython",
        "version": 3
      },
      "file_extension": ".py",
      "mimetype": "text/x-python",
      "name": "python",
      "nbconvert_exporter": "python",
      "pygments_lexer": "ipython3",
      "version": "3.8.13"
    },
    "vscode": {
      "interpreter": {
        "hash": "7a0d0095ecf8542dc6ceae4bdc35ca9a37e65d5ff6dc18518961e557adfd6049"
      }
    },
    "colab": {
      "provenance": []
    },
    "accelerator": "GPU",
    "gpuClass": "standard",
    "widgets": {
      "application/vnd.jupyter.widget-state+json": {
        "197bba9187a7457189f005d082c6f92f": {
          "model_module": "@jupyter-widgets/controls",
          "model_name": "HBoxModel",
          "model_module_version": "1.5.0",
          "state": {
            "_dom_classes": [],
            "_model_module": "@jupyter-widgets/controls",
            "_model_module_version": "1.5.0",
            "_model_name": "HBoxModel",
            "_view_count": null,
            "_view_module": "@jupyter-widgets/controls",
            "_view_module_version": "1.5.0",
            "_view_name": "HBoxView",
            "box_style": "",
            "children": [
              "IPY_MODEL_bc9efa5bdd464736b396c9c0b757bd9d",
              "IPY_MODEL_0751b098311147ba9b8acc81fcd48b01",
              "IPY_MODEL_3b7e4aa7e9594daf888db00f782dcdf3"
            ],
            "layout": "IPY_MODEL_585117d04e5a465db72743cc3f383eec"
          }
        },
        "bc9efa5bdd464736b396c9c0b757bd9d": {
          "model_module": "@jupyter-widgets/controls",
          "model_name": "HTMLModel",
          "model_module_version": "1.5.0",
          "state": {
            "_dom_classes": [],
            "_model_module": "@jupyter-widgets/controls",
            "_model_module_version": "1.5.0",
            "_model_name": "HTMLModel",
            "_view_count": null,
            "_view_module": "@jupyter-widgets/controls",
            "_view_module_version": "1.5.0",
            "_view_name": "HTMLView",
            "description": "",
            "description_tooltip": null,
            "layout": "IPY_MODEL_220258b096624e3cac1b771424fd3781",
            "placeholder": "​",
            "style": "IPY_MODEL_1b433b802bbc408b972045867005df86",
            "value": "100%"
          }
        },
        "0751b098311147ba9b8acc81fcd48b01": {
          "model_module": "@jupyter-widgets/controls",
          "model_name": "FloatProgressModel",
          "model_module_version": "1.5.0",
          "state": {
            "_dom_classes": [],
            "_model_module": "@jupyter-widgets/controls",
            "_model_module_version": "1.5.0",
            "_model_name": "FloatProgressModel",
            "_view_count": null,
            "_view_module": "@jupyter-widgets/controls",
            "_view_module_version": "1.5.0",
            "_view_name": "ProgressView",
            "bar_style": "success",
            "description": "",
            "description_tooltip": null,
            "layout": "IPY_MODEL_8cec637a202a4800a112ae2da34f9b10",
            "max": 9912422,
            "min": 0,
            "orientation": "horizontal",
            "style": "IPY_MODEL_cc4bf9372d764bcc99bd0bb01673ade0",
            "value": 9912422
          }
        },
        "3b7e4aa7e9594daf888db00f782dcdf3": {
          "model_module": "@jupyter-widgets/controls",
          "model_name": "HTMLModel",
          "model_module_version": "1.5.0",
          "state": {
            "_dom_classes": [],
            "_model_module": "@jupyter-widgets/controls",
            "_model_module_version": "1.5.0",
            "_model_name": "HTMLModel",
            "_view_count": null,
            "_view_module": "@jupyter-widgets/controls",
            "_view_module_version": "1.5.0",
            "_view_name": "HTMLView",
            "description": "",
            "description_tooltip": null,
            "layout": "IPY_MODEL_04a9cfb22e5847b19f6d0c24512c1238",
            "placeholder": "​",
            "style": "IPY_MODEL_b1757ea6358649d7af0babb127c0e97b",
            "value": " 9912422/9912422 [00:00&lt;00:00, 78340181.63it/s]"
          }
        },
        "585117d04e5a465db72743cc3f383eec": {
          "model_module": "@jupyter-widgets/base",
          "model_name": "LayoutModel",
          "model_module_version": "1.2.0",
          "state": {
            "_model_module": "@jupyter-widgets/base",
            "_model_module_version": "1.2.0",
            "_model_name": "LayoutModel",
            "_view_count": null,
            "_view_module": "@jupyter-widgets/base",
            "_view_module_version": "1.2.0",
            "_view_name": "LayoutView",
            "align_content": null,
            "align_items": null,
            "align_self": null,
            "border": null,
            "bottom": null,
            "display": null,
            "flex": null,
            "flex_flow": null,
            "grid_area": null,
            "grid_auto_columns": null,
            "grid_auto_flow": null,
            "grid_auto_rows": null,
            "grid_column": null,
            "grid_gap": null,
            "grid_row": null,
            "grid_template_areas": null,
            "grid_template_columns": null,
            "grid_template_rows": null,
            "height": null,
            "justify_content": null,
            "justify_items": null,
            "left": null,
            "margin": null,
            "max_height": null,
            "max_width": null,
            "min_height": null,
            "min_width": null,
            "object_fit": null,
            "object_position": null,
            "order": null,
            "overflow": null,
            "overflow_x": null,
            "overflow_y": null,
            "padding": null,
            "right": null,
            "top": null,
            "visibility": null,
            "width": null
          }
        },
        "220258b096624e3cac1b771424fd3781": {
          "model_module": "@jupyter-widgets/base",
          "model_name": "LayoutModel",
          "model_module_version": "1.2.0",
          "state": {
            "_model_module": "@jupyter-widgets/base",
            "_model_module_version": "1.2.0",
            "_model_name": "LayoutModel",
            "_view_count": null,
            "_view_module": "@jupyter-widgets/base",
            "_view_module_version": "1.2.0",
            "_view_name": "LayoutView",
            "align_content": null,
            "align_items": null,
            "align_self": null,
            "border": null,
            "bottom": null,
            "display": null,
            "flex": null,
            "flex_flow": null,
            "grid_area": null,
            "grid_auto_columns": null,
            "grid_auto_flow": null,
            "grid_auto_rows": null,
            "grid_column": null,
            "grid_gap": null,
            "grid_row": null,
            "grid_template_areas": null,
            "grid_template_columns": null,
            "grid_template_rows": null,
            "height": null,
            "justify_content": null,
            "justify_items": null,
            "left": null,
            "margin": null,
            "max_height": null,
            "max_width": null,
            "min_height": null,
            "min_width": null,
            "object_fit": null,
            "object_position": null,
            "order": null,
            "overflow": null,
            "overflow_x": null,
            "overflow_y": null,
            "padding": null,
            "right": null,
            "top": null,
            "visibility": null,
            "width": null
          }
        },
        "1b433b802bbc408b972045867005df86": {
          "model_module": "@jupyter-widgets/controls",
          "model_name": "DescriptionStyleModel",
          "model_module_version": "1.5.0",
          "state": {
            "_model_module": "@jupyter-widgets/controls",
            "_model_module_version": "1.5.0",
            "_model_name": "DescriptionStyleModel",
            "_view_count": null,
            "_view_module": "@jupyter-widgets/base",
            "_view_module_version": "1.2.0",
            "_view_name": "StyleView",
            "description_width": ""
          }
        },
        "8cec637a202a4800a112ae2da34f9b10": {
          "model_module": "@jupyter-widgets/base",
          "model_name": "LayoutModel",
          "model_module_version": "1.2.0",
          "state": {
            "_model_module": "@jupyter-widgets/base",
            "_model_module_version": "1.2.0",
            "_model_name": "LayoutModel",
            "_view_count": null,
            "_view_module": "@jupyter-widgets/base",
            "_view_module_version": "1.2.0",
            "_view_name": "LayoutView",
            "align_content": null,
            "align_items": null,
            "align_self": null,
            "border": null,
            "bottom": null,
            "display": null,
            "flex": null,
            "flex_flow": null,
            "grid_area": null,
            "grid_auto_columns": null,
            "grid_auto_flow": null,
            "grid_auto_rows": null,
            "grid_column": null,
            "grid_gap": null,
            "grid_row": null,
            "grid_template_areas": null,
            "grid_template_columns": null,
            "grid_template_rows": null,
            "height": null,
            "justify_content": null,
            "justify_items": null,
            "left": null,
            "margin": null,
            "max_height": null,
            "max_width": null,
            "min_height": null,
            "min_width": null,
            "object_fit": null,
            "object_position": null,
            "order": null,
            "overflow": null,
            "overflow_x": null,
            "overflow_y": null,
            "padding": null,
            "right": null,
            "top": null,
            "visibility": null,
            "width": null
          }
        },
        "cc4bf9372d764bcc99bd0bb01673ade0": {
          "model_module": "@jupyter-widgets/controls",
          "model_name": "ProgressStyleModel",
          "model_module_version": "1.5.0",
          "state": {
            "_model_module": "@jupyter-widgets/controls",
            "_model_module_version": "1.5.0",
            "_model_name": "ProgressStyleModel",
            "_view_count": null,
            "_view_module": "@jupyter-widgets/base",
            "_view_module_version": "1.2.0",
            "_view_name": "StyleView",
            "bar_color": null,
            "description_width": ""
          }
        },
        "04a9cfb22e5847b19f6d0c24512c1238": {
          "model_module": "@jupyter-widgets/base",
          "model_name": "LayoutModel",
          "model_module_version": "1.2.0",
          "state": {
            "_model_module": "@jupyter-widgets/base",
            "_model_module_version": "1.2.0",
            "_model_name": "LayoutModel",
            "_view_count": null,
            "_view_module": "@jupyter-widgets/base",
            "_view_module_version": "1.2.0",
            "_view_name": "LayoutView",
            "align_content": null,
            "align_items": null,
            "align_self": null,
            "border": null,
            "bottom": null,
            "display": null,
            "flex": null,
            "flex_flow": null,
            "grid_area": null,
            "grid_auto_columns": null,
            "grid_auto_flow": null,
            "grid_auto_rows": null,
            "grid_column": null,
            "grid_gap": null,
            "grid_row": null,
            "grid_template_areas": null,
            "grid_template_columns": null,
            "grid_template_rows": null,
            "height": null,
            "justify_content": null,
            "justify_items": null,
            "left": null,
            "margin": null,
            "max_height": null,
            "max_width": null,
            "min_height": null,
            "min_width": null,
            "object_fit": null,
            "object_position": null,
            "order": null,
            "overflow": null,
            "overflow_x": null,
            "overflow_y": null,
            "padding": null,
            "right": null,
            "top": null,
            "visibility": null,
            "width": null
          }
        },
        "b1757ea6358649d7af0babb127c0e97b": {
          "model_module": "@jupyter-widgets/controls",
          "model_name": "DescriptionStyleModel",
          "model_module_version": "1.5.0",
          "state": {
            "_model_module": "@jupyter-widgets/controls",
            "_model_module_version": "1.5.0",
            "_model_name": "DescriptionStyleModel",
            "_view_count": null,
            "_view_module": "@jupyter-widgets/base",
            "_view_module_version": "1.2.0",
            "_view_name": "StyleView",
            "description_width": ""
          }
        },
        "e87a2f51df1b4c22a17bb22ee56dfc4e": {
          "model_module": "@jupyter-widgets/controls",
          "model_name": "HBoxModel",
          "model_module_version": "1.5.0",
          "state": {
            "_dom_classes": [],
            "_model_module": "@jupyter-widgets/controls",
            "_model_module_version": "1.5.0",
            "_model_name": "HBoxModel",
            "_view_count": null,
            "_view_module": "@jupyter-widgets/controls",
            "_view_module_version": "1.5.0",
            "_view_name": "HBoxView",
            "box_style": "",
            "children": [
              "IPY_MODEL_2e1857e3a41c4d11aff0b556f341ee63",
              "IPY_MODEL_d641b3eb409b4fd0bb4897d8b55dfbc4",
              "IPY_MODEL_dccb81532579470f88c252c5da6eadbf"
            ],
            "layout": "IPY_MODEL_abc696ac66b440be93a3c9900a77136e"
          }
        },
        "2e1857e3a41c4d11aff0b556f341ee63": {
          "model_module": "@jupyter-widgets/controls",
          "model_name": "HTMLModel",
          "model_module_version": "1.5.0",
          "state": {
            "_dom_classes": [],
            "_model_module": "@jupyter-widgets/controls",
            "_model_module_version": "1.5.0",
            "_model_name": "HTMLModel",
            "_view_count": null,
            "_view_module": "@jupyter-widgets/controls",
            "_view_module_version": "1.5.0",
            "_view_name": "HTMLView",
            "description": "",
            "description_tooltip": null,
            "layout": "IPY_MODEL_e1c59cb8aa31477d8526abad532d2ad6",
            "placeholder": "​",
            "style": "IPY_MODEL_603bd5c4b6954824b672daec5732005f",
            "value": "100%"
          }
        },
        "d641b3eb409b4fd0bb4897d8b55dfbc4": {
          "model_module": "@jupyter-widgets/controls",
          "model_name": "FloatProgressModel",
          "model_module_version": "1.5.0",
          "state": {
            "_dom_classes": [],
            "_model_module": "@jupyter-widgets/controls",
            "_model_module_version": "1.5.0",
            "_model_name": "FloatProgressModel",
            "_view_count": null,
            "_view_module": "@jupyter-widgets/controls",
            "_view_module_version": "1.5.0",
            "_view_name": "ProgressView",
            "bar_style": "success",
            "description": "",
            "description_tooltip": null,
            "layout": "IPY_MODEL_fa3bc0741ed7487d87bf7b847df65870",
            "max": 28881,
            "min": 0,
            "orientation": "horizontal",
            "style": "IPY_MODEL_c02d3c446284424da52a3112f1dda47e",
            "value": 28881
          }
        },
        "dccb81532579470f88c252c5da6eadbf": {
          "model_module": "@jupyter-widgets/controls",
          "model_name": "HTMLModel",
          "model_module_version": "1.5.0",
          "state": {
            "_dom_classes": [],
            "_model_module": "@jupyter-widgets/controls",
            "_model_module_version": "1.5.0",
            "_model_name": "HTMLModel",
            "_view_count": null,
            "_view_module": "@jupyter-widgets/controls",
            "_view_module_version": "1.5.0",
            "_view_name": "HTMLView",
            "description": "",
            "description_tooltip": null,
            "layout": "IPY_MODEL_654849f151134056b3edb2a279d6af7f",
            "placeholder": "​",
            "style": "IPY_MODEL_cb30bf910c184883b5bd40346cd2adc8",
            "value": " 28881/28881 [00:00&lt;00:00, 887844.25it/s]"
          }
        },
        "abc696ac66b440be93a3c9900a77136e": {
          "model_module": "@jupyter-widgets/base",
          "model_name": "LayoutModel",
          "model_module_version": "1.2.0",
          "state": {
            "_model_module": "@jupyter-widgets/base",
            "_model_module_version": "1.2.0",
            "_model_name": "LayoutModel",
            "_view_count": null,
            "_view_module": "@jupyter-widgets/base",
            "_view_module_version": "1.2.0",
            "_view_name": "LayoutView",
            "align_content": null,
            "align_items": null,
            "align_self": null,
            "border": null,
            "bottom": null,
            "display": null,
            "flex": null,
            "flex_flow": null,
            "grid_area": null,
            "grid_auto_columns": null,
            "grid_auto_flow": null,
            "grid_auto_rows": null,
            "grid_column": null,
            "grid_gap": null,
            "grid_row": null,
            "grid_template_areas": null,
            "grid_template_columns": null,
            "grid_template_rows": null,
            "height": null,
            "justify_content": null,
            "justify_items": null,
            "left": null,
            "margin": null,
            "max_height": null,
            "max_width": null,
            "min_height": null,
            "min_width": null,
            "object_fit": null,
            "object_position": null,
            "order": null,
            "overflow": null,
            "overflow_x": null,
            "overflow_y": null,
            "padding": null,
            "right": null,
            "top": null,
            "visibility": null,
            "width": null
          }
        },
        "e1c59cb8aa31477d8526abad532d2ad6": {
          "model_module": "@jupyter-widgets/base",
          "model_name": "LayoutModel",
          "model_module_version": "1.2.0",
          "state": {
            "_model_module": "@jupyter-widgets/base",
            "_model_module_version": "1.2.0",
            "_model_name": "LayoutModel",
            "_view_count": null,
            "_view_module": "@jupyter-widgets/base",
            "_view_module_version": "1.2.0",
            "_view_name": "LayoutView",
            "align_content": null,
            "align_items": null,
            "align_self": null,
            "border": null,
            "bottom": null,
            "display": null,
            "flex": null,
            "flex_flow": null,
            "grid_area": null,
            "grid_auto_columns": null,
            "grid_auto_flow": null,
            "grid_auto_rows": null,
            "grid_column": null,
            "grid_gap": null,
            "grid_row": null,
            "grid_template_areas": null,
            "grid_template_columns": null,
            "grid_template_rows": null,
            "height": null,
            "justify_content": null,
            "justify_items": null,
            "left": null,
            "margin": null,
            "max_height": null,
            "max_width": null,
            "min_height": null,
            "min_width": null,
            "object_fit": null,
            "object_position": null,
            "order": null,
            "overflow": null,
            "overflow_x": null,
            "overflow_y": null,
            "padding": null,
            "right": null,
            "top": null,
            "visibility": null,
            "width": null
          }
        },
        "603bd5c4b6954824b672daec5732005f": {
          "model_module": "@jupyter-widgets/controls",
          "model_name": "DescriptionStyleModel",
          "model_module_version": "1.5.0",
          "state": {
            "_model_module": "@jupyter-widgets/controls",
            "_model_module_version": "1.5.0",
            "_model_name": "DescriptionStyleModel",
            "_view_count": null,
            "_view_module": "@jupyter-widgets/base",
            "_view_module_version": "1.2.0",
            "_view_name": "StyleView",
            "description_width": ""
          }
        },
        "fa3bc0741ed7487d87bf7b847df65870": {
          "model_module": "@jupyter-widgets/base",
          "model_name": "LayoutModel",
          "model_module_version": "1.2.0",
          "state": {
            "_model_module": "@jupyter-widgets/base",
            "_model_module_version": "1.2.0",
            "_model_name": "LayoutModel",
            "_view_count": null,
            "_view_module": "@jupyter-widgets/base",
            "_view_module_version": "1.2.0",
            "_view_name": "LayoutView",
            "align_content": null,
            "align_items": null,
            "align_self": null,
            "border": null,
            "bottom": null,
            "display": null,
            "flex": null,
            "flex_flow": null,
            "grid_area": null,
            "grid_auto_columns": null,
            "grid_auto_flow": null,
            "grid_auto_rows": null,
            "grid_column": null,
            "grid_gap": null,
            "grid_row": null,
            "grid_template_areas": null,
            "grid_template_columns": null,
            "grid_template_rows": null,
            "height": null,
            "justify_content": null,
            "justify_items": null,
            "left": null,
            "margin": null,
            "max_height": null,
            "max_width": null,
            "min_height": null,
            "min_width": null,
            "object_fit": null,
            "object_position": null,
            "order": null,
            "overflow": null,
            "overflow_x": null,
            "overflow_y": null,
            "padding": null,
            "right": null,
            "top": null,
            "visibility": null,
            "width": null
          }
        },
        "c02d3c446284424da52a3112f1dda47e": {
          "model_module": "@jupyter-widgets/controls",
          "model_name": "ProgressStyleModel",
          "model_module_version": "1.5.0",
          "state": {
            "_model_module": "@jupyter-widgets/controls",
            "_model_module_version": "1.5.0",
            "_model_name": "ProgressStyleModel",
            "_view_count": null,
            "_view_module": "@jupyter-widgets/base",
            "_view_module_version": "1.2.0",
            "_view_name": "StyleView",
            "bar_color": null,
            "description_width": ""
          }
        },
        "654849f151134056b3edb2a279d6af7f": {
          "model_module": "@jupyter-widgets/base",
          "model_name": "LayoutModel",
          "model_module_version": "1.2.0",
          "state": {
            "_model_module": "@jupyter-widgets/base",
            "_model_module_version": "1.2.0",
            "_model_name": "LayoutModel",
            "_view_count": null,
            "_view_module": "@jupyter-widgets/base",
            "_view_module_version": "1.2.0",
            "_view_name": "LayoutView",
            "align_content": null,
            "align_items": null,
            "align_self": null,
            "border": null,
            "bottom": null,
            "display": null,
            "flex": null,
            "flex_flow": null,
            "grid_area": null,
            "grid_auto_columns": null,
            "grid_auto_flow": null,
            "grid_auto_rows": null,
            "grid_column": null,
            "grid_gap": null,
            "grid_row": null,
            "grid_template_areas": null,
            "grid_template_columns": null,
            "grid_template_rows": null,
            "height": null,
            "justify_content": null,
            "justify_items": null,
            "left": null,
            "margin": null,
            "max_height": null,
            "max_width": null,
            "min_height": null,
            "min_width": null,
            "object_fit": null,
            "object_position": null,
            "order": null,
            "overflow": null,
            "overflow_x": null,
            "overflow_y": null,
            "padding": null,
            "right": null,
            "top": null,
            "visibility": null,
            "width": null
          }
        },
        "cb30bf910c184883b5bd40346cd2adc8": {
          "model_module": "@jupyter-widgets/controls",
          "model_name": "DescriptionStyleModel",
          "model_module_version": "1.5.0",
          "state": {
            "_model_module": "@jupyter-widgets/controls",
            "_model_module_version": "1.5.0",
            "_model_name": "DescriptionStyleModel",
            "_view_count": null,
            "_view_module": "@jupyter-widgets/base",
            "_view_module_version": "1.2.0",
            "_view_name": "StyleView",
            "description_width": ""
          }
        },
        "a04b7854319f4b6ab4078cd6296a1f0e": {
          "model_module": "@jupyter-widgets/controls",
          "model_name": "HBoxModel",
          "model_module_version": "1.5.0",
          "state": {
            "_dom_classes": [],
            "_model_module": "@jupyter-widgets/controls",
            "_model_module_version": "1.5.0",
            "_model_name": "HBoxModel",
            "_view_count": null,
            "_view_module": "@jupyter-widgets/controls",
            "_view_module_version": "1.5.0",
            "_view_name": "HBoxView",
            "box_style": "",
            "children": [
              "IPY_MODEL_f8b71e06cd5048ea856942c903abac3c",
              "IPY_MODEL_1e4d209e0bd44974a1bb02e168fff373",
              "IPY_MODEL_0068ec7eb2c84a349f60d870cb72dd6b"
            ],
            "layout": "IPY_MODEL_43fa8acf86fb4f5d8feba541edc28162"
          }
        },
        "f8b71e06cd5048ea856942c903abac3c": {
          "model_module": "@jupyter-widgets/controls",
          "model_name": "HTMLModel",
          "model_module_version": "1.5.0",
          "state": {
            "_dom_classes": [],
            "_model_module": "@jupyter-widgets/controls",
            "_model_module_version": "1.5.0",
            "_model_name": "HTMLModel",
            "_view_count": null,
            "_view_module": "@jupyter-widgets/controls",
            "_view_module_version": "1.5.0",
            "_view_name": "HTMLView",
            "description": "",
            "description_tooltip": null,
            "layout": "IPY_MODEL_0d7b143cf1bc4c158afd49358a25eb5a",
            "placeholder": "​",
            "style": "IPY_MODEL_61e7b7fc972b406294c57617848a0d6f",
            "value": "100%"
          }
        },
        "1e4d209e0bd44974a1bb02e168fff373": {
          "model_module": "@jupyter-widgets/controls",
          "model_name": "FloatProgressModel",
          "model_module_version": "1.5.0",
          "state": {
            "_dom_classes": [],
            "_model_module": "@jupyter-widgets/controls",
            "_model_module_version": "1.5.0",
            "_model_name": "FloatProgressModel",
            "_view_count": null,
            "_view_module": "@jupyter-widgets/controls",
            "_view_module_version": "1.5.0",
            "_view_name": "ProgressView",
            "bar_style": "success",
            "description": "",
            "description_tooltip": null,
            "layout": "IPY_MODEL_d75795b653744e5db8be7ab08fc11bf3",
            "max": 1648877,
            "min": 0,
            "orientation": "horizontal",
            "style": "IPY_MODEL_9c2acc4693af4c6cac43d043fa3a9a54",
            "value": 1648877
          }
        },
        "0068ec7eb2c84a349f60d870cb72dd6b": {
          "model_module": "@jupyter-widgets/controls",
          "model_name": "HTMLModel",
          "model_module_version": "1.5.0",
          "state": {
            "_dom_classes": [],
            "_model_module": "@jupyter-widgets/controls",
            "_model_module_version": "1.5.0",
            "_model_name": "HTMLModel",
            "_view_count": null,
            "_view_module": "@jupyter-widgets/controls",
            "_view_module_version": "1.5.0",
            "_view_name": "HTMLView",
            "description": "",
            "description_tooltip": null,
            "layout": "IPY_MODEL_bc173236d6df459a83d4940cb9c76488",
            "placeholder": "​",
            "style": "IPY_MODEL_8e9cd981948943fda77e0faede5d8665",
            "value": " 1648877/1648877 [00:00&lt;00:00, 18043777.97it/s]"
          }
        },
        "43fa8acf86fb4f5d8feba541edc28162": {
          "model_module": "@jupyter-widgets/base",
          "model_name": "LayoutModel",
          "model_module_version": "1.2.0",
          "state": {
            "_model_module": "@jupyter-widgets/base",
            "_model_module_version": "1.2.0",
            "_model_name": "LayoutModel",
            "_view_count": null,
            "_view_module": "@jupyter-widgets/base",
            "_view_module_version": "1.2.0",
            "_view_name": "LayoutView",
            "align_content": null,
            "align_items": null,
            "align_self": null,
            "border": null,
            "bottom": null,
            "display": null,
            "flex": null,
            "flex_flow": null,
            "grid_area": null,
            "grid_auto_columns": null,
            "grid_auto_flow": null,
            "grid_auto_rows": null,
            "grid_column": null,
            "grid_gap": null,
            "grid_row": null,
            "grid_template_areas": null,
            "grid_template_columns": null,
            "grid_template_rows": null,
            "height": null,
            "justify_content": null,
            "justify_items": null,
            "left": null,
            "margin": null,
            "max_height": null,
            "max_width": null,
            "min_height": null,
            "min_width": null,
            "object_fit": null,
            "object_position": null,
            "order": null,
            "overflow": null,
            "overflow_x": null,
            "overflow_y": null,
            "padding": null,
            "right": null,
            "top": null,
            "visibility": null,
            "width": null
          }
        },
        "0d7b143cf1bc4c158afd49358a25eb5a": {
          "model_module": "@jupyter-widgets/base",
          "model_name": "LayoutModel",
          "model_module_version": "1.2.0",
          "state": {
            "_model_module": "@jupyter-widgets/base",
            "_model_module_version": "1.2.0",
            "_model_name": "LayoutModel",
            "_view_count": null,
            "_view_module": "@jupyter-widgets/base",
            "_view_module_version": "1.2.0",
            "_view_name": "LayoutView",
            "align_content": null,
            "align_items": null,
            "align_self": null,
            "border": null,
            "bottom": null,
            "display": null,
            "flex": null,
            "flex_flow": null,
            "grid_area": null,
            "grid_auto_columns": null,
            "grid_auto_flow": null,
            "grid_auto_rows": null,
            "grid_column": null,
            "grid_gap": null,
            "grid_row": null,
            "grid_template_areas": null,
            "grid_template_columns": null,
            "grid_template_rows": null,
            "height": null,
            "justify_content": null,
            "justify_items": null,
            "left": null,
            "margin": null,
            "max_height": null,
            "max_width": null,
            "min_height": null,
            "min_width": null,
            "object_fit": null,
            "object_position": null,
            "order": null,
            "overflow": null,
            "overflow_x": null,
            "overflow_y": null,
            "padding": null,
            "right": null,
            "top": null,
            "visibility": null,
            "width": null
          }
        },
        "61e7b7fc972b406294c57617848a0d6f": {
          "model_module": "@jupyter-widgets/controls",
          "model_name": "DescriptionStyleModel",
          "model_module_version": "1.5.0",
          "state": {
            "_model_module": "@jupyter-widgets/controls",
            "_model_module_version": "1.5.0",
            "_model_name": "DescriptionStyleModel",
            "_view_count": null,
            "_view_module": "@jupyter-widgets/base",
            "_view_module_version": "1.2.0",
            "_view_name": "StyleView",
            "description_width": ""
          }
        },
        "d75795b653744e5db8be7ab08fc11bf3": {
          "model_module": "@jupyter-widgets/base",
          "model_name": "LayoutModel",
          "model_module_version": "1.2.0",
          "state": {
            "_model_module": "@jupyter-widgets/base",
            "_model_module_version": "1.2.0",
            "_model_name": "LayoutModel",
            "_view_count": null,
            "_view_module": "@jupyter-widgets/base",
            "_view_module_version": "1.2.0",
            "_view_name": "LayoutView",
            "align_content": null,
            "align_items": null,
            "align_self": null,
            "border": null,
            "bottom": null,
            "display": null,
            "flex": null,
            "flex_flow": null,
            "grid_area": null,
            "grid_auto_columns": null,
            "grid_auto_flow": null,
            "grid_auto_rows": null,
            "grid_column": null,
            "grid_gap": null,
            "grid_row": null,
            "grid_template_areas": null,
            "grid_template_columns": null,
            "grid_template_rows": null,
            "height": null,
            "justify_content": null,
            "justify_items": null,
            "left": null,
            "margin": null,
            "max_height": null,
            "max_width": null,
            "min_height": null,
            "min_width": null,
            "object_fit": null,
            "object_position": null,
            "order": null,
            "overflow": null,
            "overflow_x": null,
            "overflow_y": null,
            "padding": null,
            "right": null,
            "top": null,
            "visibility": null,
            "width": null
          }
        },
        "9c2acc4693af4c6cac43d043fa3a9a54": {
          "model_module": "@jupyter-widgets/controls",
          "model_name": "ProgressStyleModel",
          "model_module_version": "1.5.0",
          "state": {
            "_model_module": "@jupyter-widgets/controls",
            "_model_module_version": "1.5.0",
            "_model_name": "ProgressStyleModel",
            "_view_count": null,
            "_view_module": "@jupyter-widgets/base",
            "_view_module_version": "1.2.0",
            "_view_name": "StyleView",
            "bar_color": null,
            "description_width": ""
          }
        },
        "bc173236d6df459a83d4940cb9c76488": {
          "model_module": "@jupyter-widgets/base",
          "model_name": "LayoutModel",
          "model_module_version": "1.2.0",
          "state": {
            "_model_module": "@jupyter-widgets/base",
            "_model_module_version": "1.2.0",
            "_model_name": "LayoutModel",
            "_view_count": null,
            "_view_module": "@jupyter-widgets/base",
            "_view_module_version": "1.2.0",
            "_view_name": "LayoutView",
            "align_content": null,
            "align_items": null,
            "align_self": null,
            "border": null,
            "bottom": null,
            "display": null,
            "flex": null,
            "flex_flow": null,
            "grid_area": null,
            "grid_auto_columns": null,
            "grid_auto_flow": null,
            "grid_auto_rows": null,
            "grid_column": null,
            "grid_gap": null,
            "grid_row": null,
            "grid_template_areas": null,
            "grid_template_columns": null,
            "grid_template_rows": null,
            "height": null,
            "justify_content": null,
            "justify_items": null,
            "left": null,
            "margin": null,
            "max_height": null,
            "max_width": null,
            "min_height": null,
            "min_width": null,
            "object_fit": null,
            "object_position": null,
            "order": null,
            "overflow": null,
            "overflow_x": null,
            "overflow_y": null,
            "padding": null,
            "right": null,
            "top": null,
            "visibility": null,
            "width": null
          }
        },
        "8e9cd981948943fda77e0faede5d8665": {
          "model_module": "@jupyter-widgets/controls",
          "model_name": "DescriptionStyleModel",
          "model_module_version": "1.5.0",
          "state": {
            "_model_module": "@jupyter-widgets/controls",
            "_model_module_version": "1.5.0",
            "_model_name": "DescriptionStyleModel",
            "_view_count": null,
            "_view_module": "@jupyter-widgets/base",
            "_view_module_version": "1.2.0",
            "_view_name": "StyleView",
            "description_width": ""
          }
        },
        "313b24c1e1ac47eb99667169158bb2c1": {
          "model_module": "@jupyter-widgets/controls",
          "model_name": "HBoxModel",
          "model_module_version": "1.5.0",
          "state": {
            "_dom_classes": [],
            "_model_module": "@jupyter-widgets/controls",
            "_model_module_version": "1.5.0",
            "_model_name": "HBoxModel",
            "_view_count": null,
            "_view_module": "@jupyter-widgets/controls",
            "_view_module_version": "1.5.0",
            "_view_name": "HBoxView",
            "box_style": "",
            "children": [
              "IPY_MODEL_b2544b083219412fac1bb4a2c4d80f89",
              "IPY_MODEL_42e56a5da5aa455db3bb1327a097b895",
              "IPY_MODEL_18e350bb3de44a4c8913a12797c6e038"
            ],
            "layout": "IPY_MODEL_c2ca8dc81282473e984fa41f456516d4"
          }
        },
        "b2544b083219412fac1bb4a2c4d80f89": {
          "model_module": "@jupyter-widgets/controls",
          "model_name": "HTMLModel",
          "model_module_version": "1.5.0",
          "state": {
            "_dom_classes": [],
            "_model_module": "@jupyter-widgets/controls",
            "_model_module_version": "1.5.0",
            "_model_name": "HTMLModel",
            "_view_count": null,
            "_view_module": "@jupyter-widgets/controls",
            "_view_module_version": "1.5.0",
            "_view_name": "HTMLView",
            "description": "",
            "description_tooltip": null,
            "layout": "IPY_MODEL_a3391fbae2924f24b64a4698e6a0b418",
            "placeholder": "​",
            "style": "IPY_MODEL_9d35e0920a1c426b9c919633f7aea9eb",
            "value": "100%"
          }
        },
        "42e56a5da5aa455db3bb1327a097b895": {
          "model_module": "@jupyter-widgets/controls",
          "model_name": "FloatProgressModel",
          "model_module_version": "1.5.0",
          "state": {
            "_dom_classes": [],
            "_model_module": "@jupyter-widgets/controls",
            "_model_module_version": "1.5.0",
            "_model_name": "FloatProgressModel",
            "_view_count": null,
            "_view_module": "@jupyter-widgets/controls",
            "_view_module_version": "1.5.0",
            "_view_name": "ProgressView",
            "bar_style": "success",
            "description": "",
            "description_tooltip": null,
            "layout": "IPY_MODEL_98547d52598d4c5a86e1f6bcf45bcb1f",
            "max": 4542,
            "min": 0,
            "orientation": "horizontal",
            "style": "IPY_MODEL_d0951445b3c741588cd7c8b2c0cc25f1",
            "value": 4542
          }
        },
        "18e350bb3de44a4c8913a12797c6e038": {
          "model_module": "@jupyter-widgets/controls",
          "model_name": "HTMLModel",
          "model_module_version": "1.5.0",
          "state": {
            "_dom_classes": [],
            "_model_module": "@jupyter-widgets/controls",
            "_model_module_version": "1.5.0",
            "_model_name": "HTMLModel",
            "_view_count": null,
            "_view_module": "@jupyter-widgets/controls",
            "_view_module_version": "1.5.0",
            "_view_name": "HTMLView",
            "description": "",
            "description_tooltip": null,
            "layout": "IPY_MODEL_581f9a18a3f34e0499e8ecc241678d49",
            "placeholder": "​",
            "style": "IPY_MODEL_5b0233c2fa8f42d4b79ce5d8a0ab3956",
            "value": " 4542/4542 [00:00&lt;00:00, 175783.43it/s]"
          }
        },
        "c2ca8dc81282473e984fa41f456516d4": {
          "model_module": "@jupyter-widgets/base",
          "model_name": "LayoutModel",
          "model_module_version": "1.2.0",
          "state": {
            "_model_module": "@jupyter-widgets/base",
            "_model_module_version": "1.2.0",
            "_model_name": "LayoutModel",
            "_view_count": null,
            "_view_module": "@jupyter-widgets/base",
            "_view_module_version": "1.2.0",
            "_view_name": "LayoutView",
            "align_content": null,
            "align_items": null,
            "align_self": null,
            "border": null,
            "bottom": null,
            "display": null,
            "flex": null,
            "flex_flow": null,
            "grid_area": null,
            "grid_auto_columns": null,
            "grid_auto_flow": null,
            "grid_auto_rows": null,
            "grid_column": null,
            "grid_gap": null,
            "grid_row": null,
            "grid_template_areas": null,
            "grid_template_columns": null,
            "grid_template_rows": null,
            "height": null,
            "justify_content": null,
            "justify_items": null,
            "left": null,
            "margin": null,
            "max_height": null,
            "max_width": null,
            "min_height": null,
            "min_width": null,
            "object_fit": null,
            "object_position": null,
            "order": null,
            "overflow": null,
            "overflow_x": null,
            "overflow_y": null,
            "padding": null,
            "right": null,
            "top": null,
            "visibility": null,
            "width": null
          }
        },
        "a3391fbae2924f24b64a4698e6a0b418": {
          "model_module": "@jupyter-widgets/base",
          "model_name": "LayoutModel",
          "model_module_version": "1.2.0",
          "state": {
            "_model_module": "@jupyter-widgets/base",
            "_model_module_version": "1.2.0",
            "_model_name": "LayoutModel",
            "_view_count": null,
            "_view_module": "@jupyter-widgets/base",
            "_view_module_version": "1.2.0",
            "_view_name": "LayoutView",
            "align_content": null,
            "align_items": null,
            "align_self": null,
            "border": null,
            "bottom": null,
            "display": null,
            "flex": null,
            "flex_flow": null,
            "grid_area": null,
            "grid_auto_columns": null,
            "grid_auto_flow": null,
            "grid_auto_rows": null,
            "grid_column": null,
            "grid_gap": null,
            "grid_row": null,
            "grid_template_areas": null,
            "grid_template_columns": null,
            "grid_template_rows": null,
            "height": null,
            "justify_content": null,
            "justify_items": null,
            "left": null,
            "margin": null,
            "max_height": null,
            "max_width": null,
            "min_height": null,
            "min_width": null,
            "object_fit": null,
            "object_position": null,
            "order": null,
            "overflow": null,
            "overflow_x": null,
            "overflow_y": null,
            "padding": null,
            "right": null,
            "top": null,
            "visibility": null,
            "width": null
          }
        },
        "9d35e0920a1c426b9c919633f7aea9eb": {
          "model_module": "@jupyter-widgets/controls",
          "model_name": "DescriptionStyleModel",
          "model_module_version": "1.5.0",
          "state": {
            "_model_module": "@jupyter-widgets/controls",
            "_model_module_version": "1.5.0",
            "_model_name": "DescriptionStyleModel",
            "_view_count": null,
            "_view_module": "@jupyter-widgets/base",
            "_view_module_version": "1.2.0",
            "_view_name": "StyleView",
            "description_width": ""
          }
        },
        "98547d52598d4c5a86e1f6bcf45bcb1f": {
          "model_module": "@jupyter-widgets/base",
          "model_name": "LayoutModel",
          "model_module_version": "1.2.0",
          "state": {
            "_model_module": "@jupyter-widgets/base",
            "_model_module_version": "1.2.0",
            "_model_name": "LayoutModel",
            "_view_count": null,
            "_view_module": "@jupyter-widgets/base",
            "_view_module_version": "1.2.0",
            "_view_name": "LayoutView",
            "align_content": null,
            "align_items": null,
            "align_self": null,
            "border": null,
            "bottom": null,
            "display": null,
            "flex": null,
            "flex_flow": null,
            "grid_area": null,
            "grid_auto_columns": null,
            "grid_auto_flow": null,
            "grid_auto_rows": null,
            "grid_column": null,
            "grid_gap": null,
            "grid_row": null,
            "grid_template_areas": null,
            "grid_template_columns": null,
            "grid_template_rows": null,
            "height": null,
            "justify_content": null,
            "justify_items": null,
            "left": null,
            "margin": null,
            "max_height": null,
            "max_width": null,
            "min_height": null,
            "min_width": null,
            "object_fit": null,
            "object_position": null,
            "order": null,
            "overflow": null,
            "overflow_x": null,
            "overflow_y": null,
            "padding": null,
            "right": null,
            "top": null,
            "visibility": null,
            "width": null
          }
        },
        "d0951445b3c741588cd7c8b2c0cc25f1": {
          "model_module": "@jupyter-widgets/controls",
          "model_name": "ProgressStyleModel",
          "model_module_version": "1.5.0",
          "state": {
            "_model_module": "@jupyter-widgets/controls",
            "_model_module_version": "1.5.0",
            "_model_name": "ProgressStyleModel",
            "_view_count": null,
            "_view_module": "@jupyter-widgets/base",
            "_view_module_version": "1.2.0",
            "_view_name": "StyleView",
            "bar_color": null,
            "description_width": ""
          }
        },
        "581f9a18a3f34e0499e8ecc241678d49": {
          "model_module": "@jupyter-widgets/base",
          "model_name": "LayoutModel",
          "model_module_version": "1.2.0",
          "state": {
            "_model_module": "@jupyter-widgets/base",
            "_model_module_version": "1.2.0",
            "_model_name": "LayoutModel",
            "_view_count": null,
            "_view_module": "@jupyter-widgets/base",
            "_view_module_version": "1.2.0",
            "_view_name": "LayoutView",
            "align_content": null,
            "align_items": null,
            "align_self": null,
            "border": null,
            "bottom": null,
            "display": null,
            "flex": null,
            "flex_flow": null,
            "grid_area": null,
            "grid_auto_columns": null,
            "grid_auto_flow": null,
            "grid_auto_rows": null,
            "grid_column": null,
            "grid_gap": null,
            "grid_row": null,
            "grid_template_areas": null,
            "grid_template_columns": null,
            "grid_template_rows": null,
            "height": null,
            "justify_content": null,
            "justify_items": null,
            "left": null,
            "margin": null,
            "max_height": null,
            "max_width": null,
            "min_height": null,
            "min_width": null,
            "object_fit": null,
            "object_position": null,
            "order": null,
            "overflow": null,
            "overflow_x": null,
            "overflow_y": null,
            "padding": null,
            "right": null,
            "top": null,
            "visibility": null,
            "width": null
          }
        },
        "5b0233c2fa8f42d4b79ce5d8a0ab3956": {
          "model_module": "@jupyter-widgets/controls",
          "model_name": "DescriptionStyleModel",
          "model_module_version": "1.5.0",
          "state": {
            "_model_module": "@jupyter-widgets/controls",
            "_model_module_version": "1.5.0",
            "_model_name": "DescriptionStyleModel",
            "_view_count": null,
            "_view_module": "@jupyter-widgets/base",
            "_view_module_version": "1.2.0",
            "_view_name": "StyleView",
            "description_width": ""
          }
        }
      }
    }
  },
  "nbformat": 4,
  "nbformat_minor": 5
}